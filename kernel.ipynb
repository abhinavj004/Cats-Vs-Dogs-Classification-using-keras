{
  "cells": [
    {
      "metadata": {
        "_uuid": "8f2839f25d086af736a60e9eeb907d3b93b6e0e5",
        "_cell_guid": "b1076dfc-b9ad-4769-8c92-a6c4dae69d19",
        "trusted": true
      },
      "cell_type": "code",
      "source": "# This Python 3 environment comes with many helpful analytics libraries installed\n# It is defined by the kaggle/python docker image: https://github.com/kaggle/docker-python\n# For example, here's several helpful packages to load in \n\nimport numpy as np # linear algebra\nimport pandas as pd # data processing, CSV file I/O (e.g. pd.read_csv)\n\n# Input data files are available in the \"../input/\" directory.\n# For example, running this (by clicking run or pressing Shift+Enter) will list the files in the input directory\n\nimport os\nprint(os.listdir(\"../input\"))\n\n# Any results you write to the current directory are saved as output.",
      "execution_count": null,
      "outputs": []
    },
    {
      "metadata": {
        "trusted": true,
        "_uuid": "3754f4fcbd5d7299dec54adf7a7a42aec974247f"
      },
      "cell_type": "code",
      "source": "%matplotlib inline\nimport pandas as pd\nimport numpy as np\nimport matplotlib.pyplot as plt\nimport seaborn as sns\nfrom scipy import stats\nfrom ast import literal_eval\nfrom sklearn.feature_extraction.text import TfidfVectorizer, CountVectorizer\nfrom sklearn.metrics.pairwise import linear_kernel, cosine_similarity\nfrom nltk.stem.snowball import SnowballStemmer\nfrom nltk.stem.wordnet import WordNetLemmatizer\nfrom nltk.corpus import wordnet\nfrom surprise import Reader, Dataset, SVD, evaluate\n\nimport warnings; warnings.simplefilter('ignore')",
      "execution_count": null,
      "outputs": []
    },
    {
      "metadata": {
        "_cell_guid": "79c7e3d0-c299-4dcb-8224-4455121ee9b0",
        "_uuid": "d629ff2d2480ee46fbb7e2d37f6b5fab8052498a",
        "trusted": true
      },
      "cell_type": "code",
      "source": "# Load Movies Metadata\nmd = pd.read_csv('../input/movies_metadata.csv', low_memory=False)\n\n# Print the first three rows\nmd.head(5)",
      "execution_count": null,
      "outputs": []
    },
    {
      "metadata": {
        "trusted": true,
        "_uuid": "c536e1b6ae051ddcff42941c2537ec73a4e78d42"
      },
      "cell_type": "code",
      "source": "md['genres'] = md['genres'].fillna('[]').apply(literal_eval).apply(lambda x: [i['name'] for i in x] if isinstance(x, list) else [])",
      "execution_count": null,
      "outputs": []
    },
    {
      "metadata": {
        "trusted": true,
        "_uuid": "a7fd046df8bf4d5cb493e49306b066c6ec90169b"
      },
      "cell_type": "code",
      "source": "vote_counts = md[md['vote_count'].notnull()]['vote_count'].astype('int')\nvote_averages = md[md['vote_average'].notnull()]['vote_average'].astype('int')\nC = vote_averages.mean()\nC",
      "execution_count": null,
      "outputs": []
    },
    {
      "metadata": {
        "trusted": true,
        "_uuid": "450df53f1a6c32dae25967142457993296f86442"
      },
      "cell_type": "code",
      "source": "m = vote_counts.quantile(0.95)\nm",
      "execution_count": null,
      "outputs": []
    },
    {
      "metadata": {
        "trusted": true,
        "_uuid": "fa8456dbaf83bd678af46845a43af4a184c75bcc"
      },
      "cell_type": "code",
      "source": "md['year'] = pd.to_datetime(md['release_date'], errors='coerce').apply(lambda x: str(x).split('-')[0] if x != np.nan else np.nan)",
      "execution_count": null,
      "outputs": []
    },
    {
      "metadata": {
        "trusted": true,
        "_uuid": "0ab2d3f97adbfe70c65df5b9e5d4988eae971e03"
      },
      "cell_type": "code",
      "source": "qualified = md[(md['vote_count'] >= m) & (md['vote_count'].notnull()) & (md['vote_average'].notnull())][['title', 'year', 'vote_count', 'vote_average', 'popularity', 'genres']]\nqualified['vote_count'] = qualified['vote_count'].astype('int')\nqualified['vote_average'] = qualified['vote_average'].astype('int')\nqualified.shape",
      "execution_count": null,
      "outputs": []
    },
    {
      "metadata": {
        "trusted": true,
        "_uuid": "7b6576338565ab16ca253a60819aff659261f958"
      },
      "cell_type": "code",
      "source": "def weighted_rating(x):\n    v = x['vote_count']\n    R = x['vote_average']\n    return (v/(v+m) * R) + (m/(m+v) * C)",
      "execution_count": null,
      "outputs": []
    },
    {
      "metadata": {
        "trusted": true,
        "_uuid": "7c73f6d40e8159fc7574d902e9b1d67590537309"
      },
      "cell_type": "code",
      "source": "qualified['wr'] = qualified.apply(weighted_rating, axis=1)",
      "execution_count": null,
      "outputs": []
    },
    {
      "metadata": {
        "trusted": true,
        "_uuid": "d8b99a2bf1e5320c7f803a209699661382b2dab3"
      },
      "cell_type": "code",
      "source": "qualified = qualified.sort_values('wr', ascending=False).head(250)",
      "execution_count": null,
      "outputs": []
    },
    {
      "metadata": {
        "_uuid": "740e596593fa357840869243df6e5fdb32b64912"
      },
      "cell_type": "markdown",
      "source": "***Top Movies (SIMPLE RECOMMENDENTATION SYSTEM)***"
    },
    {
      "metadata": {
        "trusted": true,
        "_uuid": "abb99cd53c8c14851d205664ad375d924d59f1c1"
      },
      "cell_type": "code",
      "source": "qualified.head(15)",
      "execution_count": null,
      "outputs": []
    },
    {
      "metadata": {
        "trusted": true,
        "_uuid": "bc9a3457a287a88c7d24deb907de6251b34d6b2c"
      },
      "cell_type": "code",
      "source": "s = md.apply(lambda x: pd.Series(x['genres']),axis=1).stack().reset_index(level=1, drop=True)\ns.name = 'genre'\ngen_md = md.drop('genres', axis=1).join(s)",
      "execution_count": null,
      "outputs": []
    },
    {
      "metadata": {
        "trusted": true,
        "_uuid": "80370ce71a3f6771a8ef2fbd161b67401259723d"
      },
      "cell_type": "code",
      "source": "def build_chart(genre, percentile=0.85):\n    df = gen_md[gen_md['genre'] == genre]\n    vote_counts = df[df['vote_count'].notnull()]['vote_count'].astype('int')\n    vote_averages = df[df['vote_average'].notnull()]['vote_average'].astype('int')\n    C = vote_averages.mean()\n    m = vote_counts.quantile(percentile)\n    \n    qualified = df[(df['vote_count'] >= m) & (df['vote_count'].notnull()) & (df['vote_average'].notnull())][['title', 'year', 'vote_count', 'vote_average', 'popularity']]\n    qualified['vote_count'] = qualified['vote_count'].astype('int')\n    qualified['vote_average'] = qualified['vote_average'].astype('int')\n    \n    qualified['wr'] = qualified.apply(lambda x: (x['vote_count']/(x['vote_count']+m) * x['vote_average']) + (m/(m+x['vote_count']) * C), axis=1)\n    qualified = qualified.sort_values('wr', ascending=False).head(250)\n    \n    return qualified",
      "execution_count": null,
      "outputs": []
    },
    {
      "metadata": {
        "trusted": true,
        "_uuid": "6bc621f55faf45efc28a8d5ace4c6d09cef773c5"
      },
      "cell_type": "code",
      "source": "build_chart('Romance').head(15)",
      "execution_count": null,
      "outputs": []
    },
    {
      "metadata": {
        "trusted": true,
        "_uuid": "1d0a4d1971e7445b0e3014007b579972baee4e2a"
      },
      "cell_type": "code",
      "source": "build_chart('Action').head(15)",
      "execution_count": null,
      "outputs": []
    },
    {
      "metadata": {
        "trusted": true,
        "_uuid": "0896106362e9391614dd94dfc6697e9d3d5a52eb"
      },
      "cell_type": "code",
      "source": "build_chart('Horror').head(15)",
      "execution_count": null,
      "outputs": []
    },
    {
      "metadata": {
        "trusted": true,
        "_uuid": "98b142531a313a4cd7b151658fd4bccc6926b98e"
      },
      "cell_type": "code",
      "source": "links_small = pd.read_csv('../input/links_small.csv')\nlinks_small = links_small[links_small['tmdbId'].notnull()]['tmdbId'].astype('int')",
      "execution_count": null,
      "outputs": []
    },
    {
      "metadata": {
        "trusted": true,
        "_uuid": "82a452dec90a6fec7352c839352d052a2a323136"
      },
      "cell_type": "code",
      "source": "md = md.drop([19730, 29503, 35587])",
      "execution_count": null,
      "outputs": []
    },
    {
      "metadata": {
        "trusted": true,
        "_uuid": "2e807194fb6276243310014e8969c0d9609f3595"
      },
      "cell_type": "code",
      "source": "#Check EDA Notebook for how and why I got these indices.\nmd['id'] = md['id'].astype('int')",
      "execution_count": null,
      "outputs": []
    },
    {
      "metadata": {
        "trusted": true,
        "_uuid": "f7716caf3e7db44f824b3b4b238e69df798d3476"
      },
      "cell_type": "code",
      "source": "smd = md[md['id'].isin(links_small)]\nsmd.shape",
      "execution_count": null,
      "outputs": []
    },
    {
      "metadata": {
        "trusted": true,
        "_uuid": "bf3ed766ebfa25291d0b80f9245d23772e11b491"
      },
      "cell_type": "code",
      "source": "smd['tagline'] = smd['tagline'].fillna('')\nsmd['description'] = smd['overview'] + smd['tagline']\nsmd['description'] = smd['description'].fillna('')",
      "execution_count": null,
      "outputs": []
    },
    {
      "metadata": {
        "trusted": true,
        "_uuid": "13ed48063d0918db4c467b0415a54fd64abafaef"
      },
      "cell_type": "code",
      "source": "tf = TfidfVectorizer(analyzer='word',ngram_range=(1, 2),min_df=0, stop_words='english')\ntfidf_matrix = tf.fit_transform(smd['description'])",
      "execution_count": null,
      "outputs": []
    },
    {
      "metadata": {
        "trusted": true,
        "_uuid": "8c4353f74d758088804b7a7718442c7c366885ee"
      },
      "cell_type": "code",
      "source": "tfidf_matrix.shape",
      "execution_count": null,
      "outputs": []
    },
    {
      "metadata": {
        "trusted": true,
        "_uuid": "8a1679c40fb6f16715c251dc595c8cb7e79fa8d1"
      },
      "cell_type": "code",
      "source": "cosine_sim = linear_kernel(tfidf_matrix, tfidf_matrix)",
      "execution_count": null,
      "outputs": []
    },
    {
      "metadata": {
        "trusted": true,
        "_uuid": "42ba8d3511a77871b13830f90e42f8a8ac4859c7"
      },
      "cell_type": "code",
      "source": "cosine_sim[0]",
      "execution_count": null,
      "outputs": []
    },
    {
      "metadata": {
        "trusted": true,
        "_uuid": "abc05d3034b4e87713e0b5bb08f1d40e8acc704a"
      },
      "cell_type": "code",
      "source": "smd = smd.reset_index()\ntitles = smd['title']\nindices = pd.Series(smd.index, index=smd['title'])",
      "execution_count": null,
      "outputs": []
    },
    {
      "metadata": {
        "trusted": true,
        "_uuid": "1450244a2b46fb878d51343a3e9720899f246124"
      },
      "cell_type": "code",
      "source": "def get_recommendations(title):\n    idx = indices[title]\n    sim_scores = list(enumerate(cosine_sim[idx]))\n    sim_scores = sorted(sim_scores, key=lambda x: x[1], reverse=True)\n    sim_scores = sim_scores[1:31]\n    movie_indices = [i[0] for i in sim_scores]\n    return titles.iloc[movie_indices]",
      "execution_count": null,
      "outputs": []
    },
    {
      "metadata": {
        "trusted": true,
        "_uuid": "24a2c1a5602390fae52b72c293fd60c3442bf328"
      },
      "cell_type": "code",
      "source": "get_recommendations('The Godfather').head(10)",
      "execution_count": null,
      "outputs": []
    },
    {
      "metadata": {
        "trusted": true,
        "_uuid": "e03e5ddefa528ab8ca9f90d03cce72c0e35fe0b1"
      },
      "cell_type": "code",
      "source": "credits = pd.read_csv('../input/credits.csv')\nkeywords = pd.read_csv('../input/keywords.csv')",
      "execution_count": null,
      "outputs": []
    },
    {
      "metadata": {
        "trusted": true,
        "_uuid": "7633920e073fc01f9cbe3151b438d0079a0f3f8c"
      },
      "cell_type": "code",
      "source": "keywords['id'] = keywords['id'].astype('int')\ncredits['id'] = credits['id'].astype('int')\nmd['id'] = md['id'].astype('int')",
      "execution_count": null,
      "outputs": []
    },
    {
      "metadata": {
        "trusted": true,
        "_uuid": "61bda38bec0043a91c64ab487a823d9bd645fc17"
      },
      "cell_type": "code",
      "source": "md.shape",
      "execution_count": null,
      "outputs": []
    },
    {
      "metadata": {
        "trusted": true,
        "_uuid": "0fd54278a02b30b6d0382235d4a8d127bd7992ff"
      },
      "cell_type": "code",
      "source": "\nmd = md.merge(credits, on='id')\nmd = md.merge(keywords, on='id')",
      "execution_count": null,
      "outputs": []
    },
    {
      "metadata": {
        "trusted": true,
        "_uuid": "4f1cbd11ddf6d5cabc426dabc30be2f392880a35"
      },
      "cell_type": "code",
      "source": "smd = md[md['id'].isin(links_small)]\nsmd.shape",
      "execution_count": null,
      "outputs": []
    },
    {
      "metadata": {
        "trusted": true,
        "_uuid": "0fafbe72194b9aa3e0b88ed1de65d5097144d04f"
      },
      "cell_type": "code",
      "source": "smd['cast'] = smd['cast'].apply(literal_eval)\nsmd['crew'] = smd['crew'].apply(literal_eval)\nsmd['keywords'] = smd['keywords'].apply(literal_eval)\nsmd['cast_size'] = smd['cast'].apply(lambda x: len(x))\nsmd['crew_size'] = smd['crew'].apply(lambda x: len(x))",
      "execution_count": null,
      "outputs": []
    },
    {
      "metadata": {
        "trusted": true,
        "_uuid": "4a96f9970b199d01abc92320553b12702a3308db"
      },
      "cell_type": "code",
      "source": "def get_director(x):\n    for i in x:\n        if i['job'] == 'Director':\n            return i['name']\n    return np.nan",
      "execution_count": null,
      "outputs": []
    },
    {
      "metadata": {
        "trusted": true,
        "_uuid": "706ebc0fee1e68cd5ecda959733a5f880915be5c"
      },
      "cell_type": "code",
      "source": "smd['director'] = smd['crew'].apply(get_director)\n",
      "execution_count": null,
      "outputs": []
    },
    {
      "metadata": {
        "trusted": true,
        "_uuid": "4c4ede806a0bc7b3879a4f297beab9c850c063da"
      },
      "cell_type": "code",
      "source": "smd['cast'] = smd['cast'].apply(lambda x: [i['name'] for i in x] if isinstance(x, list) else [])\nsmd['cast'] = smd['cast'].apply(lambda x: x[:3] if len(x) >=3 else x)",
      "execution_count": null,
      "outputs": []
    },
    {
      "metadata": {
        "trusted": true,
        "_uuid": "6ac6a4971fc83f3dfe4327fdf83b9da650ab7325"
      },
      "cell_type": "code",
      "source": "smd['keywords'] = smd['keywords'].apply(lambda x: [i['name'] for i in x] if isinstance(x, list) else [])",
      "execution_count": null,
      "outputs": []
    },
    {
      "metadata": {
        "trusted": true,
        "_uuid": "b77e9f20351c7eb1799449d4f5f1078d7e183def"
      },
      "cell_type": "code",
      "source": "smd['cast'] = smd['cast'].apply(lambda x: [str.lower(i.replace(\" \", \"\")) for i in x])",
      "execution_count": null,
      "outputs": []
    },
    {
      "metadata": {
        "trusted": true,
        "_uuid": "e6aa87218cf0b621253db0a718aab3b323b575f7"
      },
      "cell_type": "code",
      "source": "\nsmd['director'] = smd['director'].astype('str').apply(lambda x: str.lower(x.replace(\" \", \"\")))\nsmd['director'] = smd['director'].apply(lambda x: [x,x])",
      "execution_count": null,
      "outputs": []
    },
    {
      "metadata": {
        "trusted": true,
        "_uuid": "9de69b16fdd586bd98f3314af3a9d2c21a14e0b5"
      },
      "cell_type": "code",
      "source": "s = smd.apply(lambda x: pd.Series(x['keywords']),axis=1).stack().reset_index(level=1, drop=True)\ns.name = 'keyword'",
      "execution_count": null,
      "outputs": []
    },
    {
      "metadata": {
        "trusted": true,
        "_uuid": "728ccc656e2e214c5bf2ee07d7372ff191e6eeec"
      },
      "cell_type": "code",
      "source": "s = s.value_counts()\ns[:5]",
      "execution_count": null,
      "outputs": []
    },
    {
      "metadata": {
        "trusted": true,
        "_uuid": "5f00debb7c02a7b26c501c4ebb920e6f8469c2f9"
      },
      "cell_type": "code",
      "source": "s = s[s > 1]\ns",
      "execution_count": null,
      "outputs": []
    },
    {
      "metadata": {
        "trusted": true,
        "_uuid": "01112c875e824f38851e09c5299cc26af19f31e0"
      },
      "cell_type": "code",
      "source": "stemmer = SnowballStemmer('english')\nstemmer.stem('dogs')",
      "execution_count": null,
      "outputs": []
    },
    {
      "metadata": {
        "trusted": true,
        "_uuid": "e34783c108663912441c05cd4eb00d4c68bc947e"
      },
      "cell_type": "code",
      "source": "def filter_keywords(x):\n    words = []\n    for i in x:\n        if i in s:\n            words.append(i)\n    return words",
      "execution_count": null,
      "outputs": []
    },
    {
      "metadata": {
        "trusted": true,
        "_uuid": "3f1de7c684f3920fd9810499de29414a4a0a9d72"
      },
      "cell_type": "code",
      "source": "smd['keywords'] = smd['keywords'].apply(filter_keywords)\nsmd['keywords'] = smd['keywords'].apply(lambda x: [stemmer.stem(i) for i in x])\nsmd['keywords'] = smd['keywords'].apply(lambda x: [str.lower(i.replace(\" \", \"\")) for i in x])",
      "execution_count": null,
      "outputs": []
    },
    {
      "metadata": {
        "trusted": true,
        "_uuid": "c3fc31c8dccd94d0599b950feb28b027b1b84cb1"
      },
      "cell_type": "code",
      "source": "smd['soup'] = smd['keywords'] + smd['cast'] + smd['director'] + smd['genres']\nsmd['soup'] = smd['soup'].apply(lambda x: ' '.join(x))",
      "execution_count": null,
      "outputs": []
    },
    {
      "metadata": {
        "trusted": true,
        "_uuid": "c9eeacd2ff7d0f1f30b2aed63315941377120b95"
      },
      "cell_type": "code",
      "source": "count = CountVectorizer(analyzer='word',ngram_range=(1, 2),min_df=0, stop_words='english')\ncount_matrix = count.fit_transform(smd['soup'])",
      "execution_count": null,
      "outputs": []
    },
    {
      "metadata": {
        "trusted": true,
        "_uuid": "0ced879e55e423af40b1d5e4a03196326876b8dc"
      },
      "cell_type": "code",
      "source": "cosine_sim = cosine_similarity(count_matrix, count_matrix)",
      "execution_count": null,
      "outputs": []
    },
    {
      "metadata": {
        "trusted": true,
        "_uuid": "cf09db0cc736785db0ce43e8a5d0dd565d609203"
      },
      "cell_type": "code",
      "source": "smd = smd.reset_index()\ntitles = smd['title']\nindices = pd.Series(smd.index, index=smd['title'])",
      "execution_count": null,
      "outputs": []
    },
    {
      "metadata": {
        "trusted": true,
        "_uuid": "1e4fa33ce54490edc492ab942193736e440bd0a8"
      },
      "cell_type": "code",
      "source": "get_recommendations('The Dark Knight').head(10)",
      "execution_count": null,
      "outputs": []
    },
    {
      "metadata": {
        "trusted": true,
        "_uuid": "d942c2e81f89039272aa56ea195f3171655c28af"
      },
      "cell_type": "code",
      "source": "def improved_recommendations(title):\n    idx = indices[title]\n    sim_scores = list(enumerate(cosine_sim[idx]))\n    sim_scores = sorted(sim_scores, key=lambda x: x[1], reverse=True)\n    sim_scores = sim_scores[1:26]\n    movie_indices = [i[0] for i in sim_scores]\n    \n    movies = smd.iloc[movie_indices][['title', 'vote_count', 'vote_average', 'year']]\n    vote_counts = movies[movies['vote_count'].notnull()]['vote_count'].astype('int')\n    vote_averages = movies[movies['vote_average'].notnull()]['vote_average'].astype('int')\n    C = vote_averages.mean()\n    m = vote_counts.quantile(0.60)\n    qualified = movies[(movies['vote_count'] >= m) & (movies['vote_count'].notnull()) & (movies['vote_average'].notnull())]\n    qualified['vote_count'] = qualified['vote_count'].astype('int')\n    qualified['vote_average'] = qualified['vote_average'].astype('int')\n    qualified['wr'] = qualified.apply(weighted_rating, axis=1)\n    qualified = qualified.sort_values('wr', ascending=False).head(10)\n    return qualified",
      "execution_count": null,
      "outputs": []
    },
    {
      "metadata": {
        "trusted": true,
        "_uuid": "ae762747c446ff11f1b65061419041f3ee6927f4"
      },
      "cell_type": "code",
      "source": "improved_recommendations('The Dark Knight')",
      "execution_count": null,
      "outputs": []
    },
    {
      "metadata": {
        "trusted": true,
        "_uuid": "519afe0ca0c705206effaa02faf717bbd2f1e0d7"
      },
      "cell_type": "code",
      "source": "reader = Reader()",
      "execution_count": null,
      "outputs": []
    },
    {
      "metadata": {
        "trusted": true,
        "_uuid": "eda8153e9891e03491134ff8cdd76686d40704ac"
      },
      "cell_type": "code",
      "source": "ratings = pd.read_csv('../input/ratings_small.csv')\nratings.head()",
      "execution_count": null,
      "outputs": []
    },
    {
      "metadata": {
        "trusted": true,
        "_uuid": "e31bc773bbcddb644910d7b181a27c2f41ad8c86"
      },
      "cell_type": "code",
      "source": "data = Dataset.load_from_df(ratings[['userId', 'movieId', 'rating']], reader)\ndata.split(n_folds=7)",
      "execution_count": null,
      "outputs": []
    },
    {
      "metadata": {
        "trusted": true,
        "_uuid": "4e8dfcf065cb6108bc89b10a3cd910abcf1034a2"
      },
      "cell_type": "code",
      "source": "svd = SVD()\nevaluate(svd, data, measures=['RMSE', 'MAE'])",
      "execution_count": null,
      "outputs": []
    },
    {
      "metadata": {
        "trusted": true,
        "_uuid": "d02df0d2d9126903e250a7252f056380dd6a39ff"
      },
      "cell_type": "code",
      "source": "trainset = data.build_full_trainset()\nsvd.train(trainset)",
      "execution_count": null,
      "outputs": []
    },
    {
      "metadata": {
        "trusted": true,
        "_uuid": "1be025dfa409b4a52f626ddef582cb4bf604e32a"
      },
      "cell_type": "code",
      "source": "ratings[ratings['userId'] == 1]",
      "execution_count": null,
      "outputs": []
    },
    {
      "metadata": {
        "trusted": true,
        "_uuid": "f36533ffdad7f24842f4d6d8661d889f0b2a3dbb"
      },
      "cell_type": "code",
      "source": "svd.predict(1, 302, 3)",
      "execution_count": null,
      "outputs": []
    },
    {
      "metadata": {
        "trusted": true,
        "_uuid": "c7ec49f5d17e3bbdf4d8eb054e87aa5d7b61eed1"
      },
      "cell_type": "code",
      "source": "",
      "execution_count": null,
      "outputs": []
    },
    {
      "metadata": {
        "trusted": true,
        "_uuid": "0b4f6474472809cb9e702c1ce6efb8cdd193a746"
      },
      "cell_type": "code",
      "source": "",
      "execution_count": null,
      "outputs": []
    },
    {
      "metadata": {
        "trusted": true,
        "_uuid": "0e33c47dd65ba921ca3f660116bd986e556211cc"
      },
      "cell_type": "code",
      "source": "",
      "execution_count": null,
      "outputs": []
    },
    {
      "metadata": {
        "trusted": true,
        "_uuid": "fb0734a60ae746106990e1cb934dd174b2002a48"
      },
      "cell_type": "code",
      "source": "",
      "execution_count": null,
      "outputs": []
    },
    {
      "metadata": {
        "trusted": true,
        "_uuid": "175f83c18626475159227631176c976f5715b74b"
      },
      "cell_type": "code",
      "source": "",
      "execution_count": null,
      "outputs": []
    }
  ],
  "metadata": {
    "kernelspec": {
      "display_name": "Python 3",
      "language": "python",
      "name": "python3"
    },
    "language_info": {
      "name": "python",
      "version": "3.6.6",
      "mimetype": "text/x-python",
      "codemirror_mode": {
        "name": "ipython",
        "version": 3
      },
      "pygments_lexer": "ipython3",
      "nbconvert_exporter": "python",
      "file_extension": ".py"
    }
  },
  "nbformat": 4,
  "nbformat_minor": 1
}